{
 "cells": [
  {
   "cell_type": "code",
   "execution_count": 1,
   "metadata": {},
   "outputs": [],
   "source": [
    "# =============================================================================\n",
    "# GENETIC ALGORITHM OPTIMIZATION - TRAVELING SALESMAN PROBLEM (TSP)\n",
    "# ============================================================================="
   ]
  },
  {
   "cell_type": "code",
   "execution_count": 8,
   "metadata": {},
   "outputs": [],
   "source": [
    "# Import Python Library \n",
    "import folium\n",
    "import os \n",
    "import pandas as pd \n",
    "import plotly.express as px\n",
    "import pygad\n",
    "\n",
    "from geopy.distance import geodesic"
   ]
  },
  {
   "cell_type": "code",
   "execution_count": 3,
   "metadata": {},
   "outputs": [
    {
     "data": {
      "text/plain": [
       "\"\\nYou're a delivery person for a mobile app that delivers coffee and pastries from various Starbucks locations.\\nYou've received a surge of orders from customers in a specific area. To optimize delivery time and cost, \\nyou need to find the most efficient route to visit all these Starbucks locations, pick up the orders, and deliver them to the customers. \\n\\nGenetic Algorithm Simmulation Approach: \\n- This approach minimizes total delivery distance, saving time and fuel costs.\\n- It ensures each Starbucks is visited exactly once, avoiding missed deliveries.\\n- The visual representation on a map aids in understanding the delivery route.\\n\""
      ]
     },
     "execution_count": 3,
     "metadata": {},
     "output_type": "execute_result"
    }
   ],
   "source": [
    "# Problem Context \n",
    "'''\n",
    "You're a delivery person for a mobile app that delivers coffee and pastries from various Starbucks locations.\n",
    "You've received a surge of orders from customers in a specific area. To optimize delivery time and cost, \n",
    "you need to find the most efficient route to visit all these Starbucks locations, pick up the orders, and deliver them to the customers. \n",
    "\n",
    "Genetic Algorithm Simmulation Approach: \n",
    "- This approach minimizes total delivery distance, saving time and fuel costs.\n",
    "- It ensures each Starbucks is visited exactly once, avoiding missed deliveries.\n",
    "- The visual representation on a map aids in understanding the delivery route.\n",
    "'''"
   ]
  },
  {
   "cell_type": "code",
   "execution_count": 4,
   "metadata": {},
   "outputs": [],
   "source": [
    "# Change Working Directories \n",
    "os.chdir(\"C:/Users/axelh/OneDrive/Documents/Hydroinformatics/Optimization_Analysis/\")"
   ]
  },
  {
   "cell_type": "code",
   "execution_count": 5,
   "metadata": {},
   "outputs": [],
   "source": [
    "# Import Datasets\n",
    "data    = pd.read_csv('Starbucks_Route.csv')\n",
    "df      = data[data['countryCode']=='GB']\n",
    "df.reset_index(inplace=True)"
   ]
  },
  {
   "cell_type": "code",
   "execution_count": 6,
   "metadata": {},
   "outputs": [],
   "source": [
    "# Group and Visualize Starbucks Branch by Town\n",
    "vis = df.groupby('city').storeNumber.count().reset_index()\n",
    "vis.head \n",
    "px.bar(vis, x='city', y='storeNumber', template='seaborn')\n",
    "map = folium.Map(location=[51.509685, -0.118092], zoom_start=6, tiles=\"stamentoner\")\n",
    "for _, r in df.iterrows():\n",
    "  folium.Marker(\n",
    "      [r['latitude'], r['longitude']], popup=f'<i>{r[\"storeNumber\"]}</i>'\n",
    "  ).add_to(map) "
   ]
  },
  {
   "cell_type": "code",
   "execution_count": 9,
   "metadata": {},
   "outputs": [
    {
     "data": {
      "text/plain": [
       "81.63683980420994"
      ]
     },
     "execution_count": 9,
     "metadata": {},
     "output_type": "execute_result"
    }
   ],
   "source": [
    "# Testing the Distance Methodology\n",
    "origin  = (df['latitude'][0], df['longitude'][0])\n",
    "dest    = (df['latitude'][100], df['longitude'][100])\n",
    "geodesic(origin, dest).kilometers"
   ]
  },
  {
   "cell_type": "code",
   "execution_count": 10,
   "metadata": {},
   "outputs": [],
   "source": [
    "# Preparing Data Structures\n",
    "test    = df.head(10)\n",
    "genes   = {store_num:[lat, lon] for store_num, lat, lon in zip(test['storeNumber'], test['latitude'], test['longitude'])}\n",
    "stores  = list(genes.keys())\n",
    "check_range = [i for i in range(0, 10)]"
   ]
  }
 ],
 "metadata": {
  "kernelspec": {
   "display_name": "base",
   "language": "python",
   "name": "python3"
  },
  "language_info": {
   "codemirror_mode": {
    "name": "ipython",
    "version": 3
   },
   "file_extension": ".py",
   "mimetype": "text/x-python",
   "name": "python",
   "nbconvert_exporter": "python",
   "pygments_lexer": "ipython3",
   "version": "3.11.7"
  }
 },
 "nbformat": 4,
 "nbformat_minor": 2
}
